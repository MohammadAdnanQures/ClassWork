{
 "cells": [
  {
   "cell_type": "markdown",
   "metadata": {},
   "source": [
    "#Assignment 1 BuildInFunctionsOfPython "
   ]
  },
  {
   "cell_type": "markdown",
   "metadata": {},
   "source": [
    "# SLICE \n",
    "##### used to get the substring from a string. have 3 parameters start,stop,step. we can iterate substring using different following methods"
   ]
  },
  {
   "cell_type": "code",
   "execution_count": 56,
   "metadata": {},
   "outputs": [
    {
     "name": "stdout",
     "output_type": "stream",
     "text": [
      "First Method \t:  tss \n",
      "Second \t\t:  git  \n",
      "Third \t\t:  hI i\n",
      "Fourth \t\t:  this Is A String\n",
      "fivth \t\t:  ti sAS\n",
      "Sixth \t\t:  ['p', 't', 'o']\n"
     ]
    }
   ],
   "source": [
    "str1 = \"this Is A String\"\n",
    "temp = str[0:11:3]\n",
    "print('First Method \\t: ',temp)\n",
    "print('Second \\t\\t: ',str1[-1:-11:-2])\n",
    "temp2 = slice(1,15,4)\n",
    "print('Third \\t\\t: ',str1[temp2])\n",
    "print('Fourth \\t\\t: ', str1[:])\n",
    "print('fivth \\t\\t: ', str1[:11:2])\n",
    "string_Array = ['p','y','t','h','o','n']\n",
    "print('Sixth \\t\\t: ',string_Array[0::2])"
   ]
  },
  {
   "cell_type": "markdown",
   "metadata": {},
   "source": [
    "# All\n",
    "##### return true or false based on data. can't perform on string\n",
    "##### based on truth table it will return boolean value. \n",
    "##### 1) if all elements in a array is true it will return 'true'\n",
    "##### 2) if all are false it will return 'false'\n",
    "##### 3) if any of one is false it return 'false'\n",
    "##### 4) in case of empty it will return 'true'"
   ]
  },
  {
   "cell_type": "code",
   "execution_count": 63,
   "metadata": {},
   "outputs": [
    {
     "name": "stdout",
     "output_type": "stream",
     "text": [
      "True\n",
      "False\n"
     ]
    }
   ],
   "source": [
    "all_String = ['1','2','3','0']\n",
    "print(all(all_String))\n",
    "All_Temp = [1,2,3,4,5,0]\n",
    "print(all(All_Temp))"
   ]
  },
  {
   "cell_type": "markdown",
   "metadata": {},
   "source": [
    "# ZIP\n",
    "##### used to convert two or more array into tuples. number of tuples depend upon minimum length of  array"
   ]
  },
  {
   "cell_type": "code",
   "execution_count": 74,
   "metadata": {},
   "outputs": [
    {
     "name": "stdout",
     "output_type": "stream",
     "text": [
      "<zip object at 0x0000019B982964C8>\n",
      "[('Four', 1), ('Three', 2), ('Two', 3), ('One', 4)]\n",
      "()\n",
      "set()\n",
      "(('111', 1, 'a'), ('222', 51, 'b'))\n"
     ]
    }
   ],
   "source": [
    "str_array1 = ['Four','Three','Two','One']\n",
    "int_array1 = [1,2,3,4]\n",
    "temp = zip(str_array1,int_array1)\n",
    "print(temp)\n",
    "print(list(temp))\n",
    "print(tuple(temp))\n",
    "print(set(temp))\n",
    "print('we can display zip in three formats List tuples and sets. major difference is brackets and list is mutable while tuple is immutable and set doesnot hold any unorder value plus duplicate' )\n",
    "\n",
    "temp_arr1 = [1,51]\n",
    "temp_arr2 = ['a','b','s','xyz','abc']\n",
    "tmep_arr3 = ['111','222','333','555','444','777']\n",
    "\n",
    "\n",
    "temp2 = zip(tmep_arr3,temp_arr1,temp_arr2)\n",
    "print(tuple(temp2))\n",
    "\n"
   ]
  },
  {
   "cell_type": "markdown",
   "metadata": {},
   "source": [
    "# HASH\n",
    "##### used to encrypt the data into fixed size of length. minimize the computation power than integer \n",
    "##### only apply on immutable string cuz if we apply on mutable we need to matain the table of hash this leads toward high computation power"
   ]
  },
  {
   "cell_type": "code",
   "execution_count": 95,
   "metadata": {},
   "outputs": [
    {
     "name": "stdout",
     "output_type": "stream",
     "text": [
      "1471767432030017258\n"
     ]
    },
    {
     "ename": "TypeError",
     "evalue": "unhashable type: 'list'",
     "output_type": "error",
     "traceback": [
      "\u001b[1;31m---------------------------------------------------------------------------\u001b[0m",
      "\u001b[1;31mTypeError\u001b[0m                                 Traceback (most recent call last)",
      "\u001b[1;32m<ipython-input-95-52f4cb351b26>\u001b[0m in \u001b[0;36m<module>\u001b[1;34m\u001b[0m\n\u001b[0;32m      2\u001b[0m \u001b[0mprint\u001b[0m\u001b[1;33m(\u001b[0m\u001b[0mhash\u001b[0m\u001b[1;33m(\u001b[0m\u001b[0mhash_temp\u001b[0m\u001b[1;33m)\u001b[0m\u001b[1;33m)\u001b[0m\u001b[1;33m\u001b[0m\u001b[1;33m\u001b[0m\u001b[0m\n\u001b[0;32m      3\u001b[0m \u001b[0mlist_temp\u001b[0m \u001b[1;33m=\u001b[0m \u001b[1;33m[\u001b[0m\u001b[1;36m1\u001b[0m\u001b[1;33m,\u001b[0m\u001b[1;36m2\u001b[0m\u001b[1;33m,\u001b[0m\u001b[1;36m3\u001b[0m\u001b[1;33m,\u001b[0m\u001b[1;36m4\u001b[0m\u001b[1;33m]\u001b[0m\u001b[1;33m\u001b[0m\u001b[1;33m\u001b[0m\u001b[0m\n\u001b[1;32m----> 4\u001b[1;33m \u001b[0mprint\u001b[0m\u001b[1;33m(\u001b[0m\u001b[0mhash\u001b[0m\u001b[1;33m(\u001b[0m\u001b[0mlist_temp\u001b[0m\u001b[1;33m)\u001b[0m\u001b[1;33m)\u001b[0m\u001b[1;33m\u001b[0m\u001b[1;33m\u001b[0m\u001b[0m\n\u001b[0m",
      "\u001b[1;31mTypeError\u001b[0m: unhashable type: 'list'"
     ]
    }
   ],
   "source": [
    "hash_temp = (12,1,3,4,11,8)\n",
    "print(hash(hash_temp))\n",
    "list_temp = [1,2,3,4]\n",
    "print(hash(list_temp))"
   ]
  },
  {
   "cell_type": "markdown",
   "metadata": {},
   "source": [
    "# Map\n",
    "###### used to get the result of all element in an array or tuple/set"
   ]
  },
  {
   "cell_type": "code",
   "execution_count": 115,
   "metadata": {},
   "outputs": [
    {
     "name": "stdout",
     "output_type": "stream",
     "text": [
      "{16, 25, 36, 49}\n"
     ]
    }
   ],
   "source": [
    "def Power(b):\n",
    "    return b*b\n",
    "\n",
    "arr2 = [4,5,6,7]\n",
    "print(set(map(Power,arr2)))\n"
   ]
  }
 ],
 "metadata": {
  "kernelspec": {
   "display_name": "Python 3",
   "language": "python",
   "name": "python3"
  },
  "language_info": {
   "codemirror_mode": {
    "name": "ipython",
    "version": 3
   },
   "file_extension": ".py",
   "mimetype": "text/x-python",
   "name": "python",
   "nbconvert_exporter": "python",
   "pygments_lexer": "ipython3",
   "version": "3.7.4"
  }
 },
 "nbformat": 4,
 "nbformat_minor": 2
}
